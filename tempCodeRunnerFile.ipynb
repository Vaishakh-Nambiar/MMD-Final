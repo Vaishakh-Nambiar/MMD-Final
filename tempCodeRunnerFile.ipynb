import pandas as pd
import numpy as np
from sklearn.preprocessing import MinMaxScaler
from sklearn.model_selection import train_test_split
import tensorflow as tf  # Import TensorFlow

# Load COVID-19 dataset
df = pd.read_csv('full_grouped.csv')

# The rest of your code remains the same, but use tf.keras instead of keras
from tensorflow.keras.models import Sequential
from tensorflow.keras.layers import LSTM, GRU, Dense
from tensorflow.keras.layers import Attention



df